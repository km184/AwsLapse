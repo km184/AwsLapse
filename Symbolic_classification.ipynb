{
 "cells": [
  {
   "cell_type": "code",
   "execution_count": 1,
   "metadata": {},
   "outputs": [],
   "source": [
    "#Import pycaret\n",
    "from pycaret.classification import *\n",
    "import pandas as pd"
   ]
  },
  {
   "cell_type": "code",
   "execution_count": 2,
   "metadata": {},
   "outputs": [],
   "source": [
    "df=pd.read_csv('Data.csv')\n"
   ]
  },
  {
   "cell_type": "code",
   "execution_count": 3,
   "metadata": {},
   "outputs": [
    {
     "name": "stdout",
     "output_type": "stream",
     "text": [
      "<class 'pandas.core.frame.DataFrame'>\n",
      "RangeIndex: 681456 entries, 0 to 681455\n",
      "Data columns (total 21 columns):\n",
      " #   Column                      Non-Null Count   Dtype  \n",
      "---  ------                      --------------   -----  \n",
      " 0   PRODUCT_CODE                659606 non-null  object \n",
      " 1   DOC                         681456 non-null  object \n",
      " 2   EXPIRY_DATE                 681456 non-null  object \n",
      " 3   PRODUCT_TYPE                681456 non-null  object \n",
      " 4   TERMINATION_EFFECTIVE_DATE  623016 non-null  object \n",
      " 5   TERM                        681456 non-null  int64  \n",
      " 6   PREMIUM_AMOUNT              681395 non-null  float64\n",
      " 7   SA                          681456 non-null  float64\n",
      " 8   STATUS_NAME                 681456 non-null  object \n",
      " 9   PREMIUM_STATUS              681456 non-null  object \n",
      " 10  PREMIUM_FREQUENCY           681456 non-null  object \n",
      " 11  MODE_NAME                   681456 non-null  object \n",
      " 12  GENDER                      681456 non-null  object \n",
      " 13  MARITAL_STATUS              499195 non-null  object \n",
      " 14  EDUCATION                   301886 non-null  object \n",
      " 15  BIRTHDAY                    681456 non-null  object \n",
      " 16  INCOME                      499072 non-null  float64\n",
      " 17  SALES_CHANNEL               681456 non-null  object \n",
      " 18  AGENT_PERSISTENCY           681456 non-null  float64\n",
      " 19  CLAWBACK_COMMISSION         272104 non-null  float64\n",
      " 20  TERMINATION_REASON          292303 non-null  object \n",
      "dtypes: float64(5), int64(1), object(15)\n",
      "memory usage: 109.2+ MB\n"
     ]
    }
   ],
   "source": [
    "df.info()"
   ]
  },
  {
   "cell_type": "code",
   "execution_count": 4,
   "metadata": {},
   "outputs": [],
   "source": [
    "#remove date collumns\n",
    "# convert the 'Date' column to datetime format\n",
    "df['TERMINATION_EFFECTIVE_DATE']= pd.to_datetime(df['TERMINATION_EFFECTIVE_DATE'])\n",
    "df['BIRTHDAY']= pd.to_datetime(df['BIRTHDAY'])\n",
    "df['DOC']= pd.to_datetime(df['DOC'])\n",
    "\n",
    "\n",
    "#Etract the age from  birth year\n",
    "#soucrce: https://stackoverflow.com/questions/2217488/age-from-birthdate-in-python\n",
    "from datetime import date\n",
    "\n",
    "def calculate_age(born):\n",
    "    #today = date.today()\n",
    "    twenty20 = date(2020, 12, 30)\n",
    "    return twenty20.year - born.year - ((twenty20.month, twenty20.day) < (born.month, born.day))\n",
    "\n",
    "\n",
    "\n",
    "\n",
    "#Calculate the policy age\n",
    "\n",
    "df['Policy_Age'] = df['DOC'].apply(calculate_age)\n",
    "df['Policy_holder_Age'] = df['BIRTHDAY'].apply(calculate_age)\n",
    "\n",
    "df = df[df.columns.difference(['DOC', 'BIRTHDAY','TERMINATION_EFFECTIVE_DATE','EXPIRY_DATE'])]\n"
   ]
  },
  {
   "cell_type": "code",
   "execution_count": 5,
   "metadata": {},
   "outputs": [
    {
     "data": {
      "text/html": [
       "<div>\n",
       "<style scoped>\n",
       "    .dataframe tbody tr th:only-of-type {\n",
       "        vertical-align: middle;\n",
       "    }\n",
       "\n",
       "    .dataframe tbody tr th {\n",
       "        vertical-align: top;\n",
       "    }\n",
       "\n",
       "    .dataframe thead th {\n",
       "        text-align: right;\n",
       "    }\n",
       "</style>\n",
       "<table border=\"1\" class=\"dataframe\">\n",
       "  <thead>\n",
       "    <tr style=\"text-align: right;\">\n",
       "      <th></th>\n",
       "      <th>AGENT_PERSISTENCY</th>\n",
       "      <th>CLAWBACK_COMMISSION</th>\n",
       "      <th>EDUCATION</th>\n",
       "      <th>GENDER</th>\n",
       "      <th>INCOME</th>\n",
       "      <th>MARITAL_STATUS</th>\n",
       "      <th>MODE_NAME</th>\n",
       "      <th>PREMIUM_AMOUNT</th>\n",
       "      <th>PREMIUM_FREQUENCY</th>\n",
       "      <th>PREMIUM_STATUS</th>\n",
       "      <th>PRODUCT_CODE</th>\n",
       "      <th>PRODUCT_TYPE</th>\n",
       "      <th>Policy_Age</th>\n",
       "      <th>Policy_holder_Age</th>\n",
       "      <th>SA</th>\n",
       "      <th>SALES_CHANNEL</th>\n",
       "      <th>STATUS_NAME</th>\n",
       "      <th>TERM</th>\n",
       "      <th>TERMINATION_REASON</th>\n",
       "    </tr>\n",
       "  </thead>\n",
       "  <tbody>\n",
       "    <tr>\n",
       "      <th>0</th>\n",
       "      <td>86.41</td>\n",
       "      <td>-114.769811</td>\n",
       "      <td>Others</td>\n",
       "      <td>M</td>\n",
       "      <td>111600.0</td>\n",
       "      <td>Single</td>\n",
       "      <td>GSO</td>\n",
       "      <td>302.39</td>\n",
       "      <td>Monthly</td>\n",
       "      <td>Regular</td>\n",
       "      <td>BMFW-1</td>\n",
       "      <td>Risk</td>\n",
       "      <td>12</td>\n",
       "      <td>55</td>\n",
       "      <td>13439.160</td>\n",
       "      <td>Tied</td>\n",
       "      <td>Terminated</td>\n",
       "      <td>7991</td>\n",
       "      <td>FINANCIAL</td>\n",
       "    </tr>\n",
       "    <tr>\n",
       "      <th>1</th>\n",
       "      <td>90.25</td>\n",
       "      <td>-83.140400</td>\n",
       "      <td>Others</td>\n",
       "      <td>F</td>\n",
       "      <td>60396.0</td>\n",
       "      <td>Single</td>\n",
       "      <td>DDE</td>\n",
       "      <td>307.74</td>\n",
       "      <td>Monthly</td>\n",
       "      <td>Regular</td>\n",
       "      <td>BMFW-1</td>\n",
       "      <td>Risk</td>\n",
       "      <td>14</td>\n",
       "      <td>47</td>\n",
       "      <td>22689.950</td>\n",
       "      <td>Broker</td>\n",
       "      <td>Lapsed</td>\n",
       "      <td>7992</td>\n",
       "      <td>NaN</td>\n",
       "    </tr>\n",
       "    <tr>\n",
       "      <th>2</th>\n",
       "      <td>0.00</td>\n",
       "      <td>0.000000</td>\n",
       "      <td>Others</td>\n",
       "      <td>M</td>\n",
       "      <td>48108.0</td>\n",
       "      <td>Married</td>\n",
       "      <td>GSO</td>\n",
       "      <td>276.58</td>\n",
       "      <td>Monthly</td>\n",
       "      <td>Regular</td>\n",
       "      <td>BMFW-1</td>\n",
       "      <td>Risk</td>\n",
       "      <td>14</td>\n",
       "      <td>65</td>\n",
       "      <td>15938.480</td>\n",
       "      <td>Tied</td>\n",
       "      <td>Terminated</td>\n",
       "      <td>7992</td>\n",
       "      <td>FINANCIAL</td>\n",
       "    </tr>\n",
       "    <tr>\n",
       "      <th>3</th>\n",
       "      <td>86.62</td>\n",
       "      <td>-105.602085</td>\n",
       "      <td>Others</td>\n",
       "      <td>M</td>\n",
       "      <td>24000.0</td>\n",
       "      <td>Single</td>\n",
       "      <td>Cash</td>\n",
       "      <td>207.73</td>\n",
       "      <td>Monthly</td>\n",
       "      <td>Regular</td>\n",
       "      <td>BMFW-1</td>\n",
       "      <td>Risk</td>\n",
       "      <td>11</td>\n",
       "      <td>42</td>\n",
       "      <td>11940.525</td>\n",
       "      <td>Tied</td>\n",
       "      <td>Lapsed</td>\n",
       "      <td>7990</td>\n",
       "      <td>NaN</td>\n",
       "    </tr>\n",
       "    <tr>\n",
       "      <th>4</th>\n",
       "      <td>82.86</td>\n",
       "      <td>-30.271900</td>\n",
       "      <td>Others</td>\n",
       "      <td>M</td>\n",
       "      <td>55632.0</td>\n",
       "      <td>Married</td>\n",
       "      <td>ESO(Electronic)</td>\n",
       "      <td>198.43</td>\n",
       "      <td>Monthly</td>\n",
       "      <td>Regular</td>\n",
       "      <td>BMFW-1</td>\n",
       "      <td>Risk</td>\n",
       "      <td>13</td>\n",
       "      <td>55</td>\n",
       "      <td>12298.740</td>\n",
       "      <td>Broker</td>\n",
       "      <td>Terminated</td>\n",
       "      <td>7992</td>\n",
       "      <td>FINANCIAL</td>\n",
       "    </tr>\n",
       "  </tbody>\n",
       "</table>\n",
       "</div>"
      ],
      "text/plain": [
       "   AGENT_PERSISTENCY  CLAWBACK_COMMISSION EDUCATION GENDER    INCOME  \\\n",
       "0              86.41          -114.769811    Others      M  111600.0   \n",
       "1              90.25           -83.140400    Others      F   60396.0   \n",
       "2               0.00             0.000000    Others      M   48108.0   \n",
       "3              86.62          -105.602085    Others      M   24000.0   \n",
       "4              82.86           -30.271900    Others      M   55632.0   \n",
       "\n",
       "  MARITAL_STATUS        MODE_NAME  PREMIUM_AMOUNT PREMIUM_FREQUENCY  \\\n",
       "0         Single              GSO          302.39           Monthly   \n",
       "1         Single              DDE          307.74           Monthly   \n",
       "2        Married              GSO          276.58           Monthly   \n",
       "3         Single             Cash          207.73           Monthly   \n",
       "4        Married  ESO(Electronic)          198.43           Monthly   \n",
       "\n",
       "  PREMIUM_STATUS PRODUCT_CODE PRODUCT_TYPE  Policy_Age  Policy_holder_Age  \\\n",
       "0        Regular       BMFW-1         Risk          12                 55   \n",
       "1        Regular       BMFW-1         Risk          14                 47   \n",
       "2        Regular       BMFW-1         Risk          14                 65   \n",
       "3        Regular       BMFW-1         Risk          11                 42   \n",
       "4        Regular       BMFW-1         Risk          13                 55   \n",
       "\n",
       "          SA SALES_CHANNEL STATUS_NAME  TERM TERMINATION_REASON  \n",
       "0  13439.160          Tied  Terminated  7991          FINANCIAL  \n",
       "1  22689.950        Broker      Lapsed  7992                NaN  \n",
       "2  15938.480          Tied  Terminated  7992          FINANCIAL  \n",
       "3  11940.525          Tied      Lapsed  7990                NaN  \n",
       "4  12298.740        Broker  Terminated  7992          FINANCIAL  "
      ]
     },
     "execution_count": 5,
     "metadata": {},
     "output_type": "execute_result"
    }
   ],
   "source": [
    "df.head()"
   ]
  },
  {
   "cell_type": "code",
   "execution_count": 6,
   "metadata": {},
   "outputs": [],
   "source": [
    "#Shuffle data\n",
    "df = df.sample(frac=1).reset_index(drop=True)"
   ]
  },
  {
   "cell_type": "code",
   "execution_count": 7,
   "metadata": {},
   "outputs": [
    {
     "data": {
      "text/plain": [
       "(681456, 19)"
      ]
     },
     "execution_count": 7,
     "metadata": {},
     "output_type": "execute_result"
    }
   ],
   "source": [
    "df.head()\n",
    "df.shape"
   ]
  },
  {
   "cell_type": "code",
   "execution_count": 8,
   "metadata": {},
   "outputs": [],
   "source": [
    "#Dropt 'Termination reason collumn as it gives away the class'\n",
    "df.drop(df[df['STATUS_NAME'] == 'Waiting for Validate'].index, inplace = True)"
   ]
  },
  {
   "cell_type": "code",
   "execution_count": 9,
   "metadata": {},
   "outputs": [
    {
     "data": {
      "text/plain": [
       "(681450, 19)"
      ]
     },
     "execution_count": 9,
     "metadata": {},
     "output_type": "execute_result"
    }
   ],
   "source": [
    "df.shape"
   ]
  },
  {
   "cell_type": "code",
   "execution_count": 10,
   "metadata": {},
   "outputs": [
    {
     "data": {
      "text/plain": [
       "array(['Lapsed', 'Inforce', 'Terminated'], dtype=object)"
      ]
     },
     "execution_count": 10,
     "metadata": {},
     "output_type": "execute_result"
    }
   ],
   "source": [
    "#Check if the waiting for validate has been removed\n",
    "df.STATUS_NAME.unique()"
   ]
  },
  {
   "cell_type": "code",
   "execution_count": 11,
   "metadata": {},
   "outputs": [
    {
     "data": {
      "image/png": "[encoded data removed]",
      "text/plain": [
       "<Figure size 432x288 with 1 Axes>"
      ]
     },
     "metadata": {
      "needs_background": "light"
     },
     "output_type": "display_data"
    }
   ],
   "source": [
    "#Simple count plot for class balance inestigation\n",
    "import seaborn as sns\n",
    "ax = sns.countplot(x=\"STATUS_NAME\", data=df)"
   ]
  },
  {
   "cell_type": "markdown",
   "metadata": {},
   "source": [
    "The above plot shows more policies have been terminated foe the data 2014 to 2020."
   ]
  },
  {
   "cell_type": "markdown",
   "metadata": {},
   "source": [
    "Data set currently seats at 600k rows. This might be too expensive for computation.\n",
    "Maybe sampling the data would help reduce that.\n"
   ]
  },
  {
   "cell_type": "code",
   "execution_count": 12,
   "metadata": {},
   "outputs": [
    {
     "data": {
      "text/plain": [
       "(50000, 19)"
      ]
     },
     "execution_count": 12,
     "metadata": {},
     "output_type": "execute_result"
    }
   ],
   "source": [
    "#random sample\n",
    "df2=df.sample(n=50000,replace=\"False\")\n",
    "df2.shape"
   ]
  },
  {
   "cell_type": "code",
   "execution_count": 13,
   "metadata": {},
   "outputs": [
    {
     "data": {
      "image/png": "[encoded data removed]",
      "text/plain": [
       "<Figure size 432x288 with 1 Axes>"
      ]
     },
     "metadata": {
      "needs_background": "light"
     },
     "output_type": "display_data"
    }
   ],
   "source": [
    "#Check class balance of the sample\n",
    "#Simple count plot for class balance inestigation\n",
    "import seaborn as sns\n",
    "ax = sns.countplot(x=\"STATUS_NAME\", data=df2)"
   ]
  },
  {
   "cell_type": "code",
   "execution_count": 14,
   "metadata": {},
   "outputs": [],
   "source": [
    "#drop the termination reason\n",
    "df2=df2.drop(['TERMINATION_REASON'], axis=1)"
   ]
  },
  {
   "cell_type": "code",
   "execution_count": 18,
   "metadata": {},
   "outputs": [],
   "source": [
    "#Assume Terminated=Lapsed\n",
    "df2['STATUS_NAME'] = df2['STATUS_NAME'].str.replace('Terminated','Lapsed')"
   ]
  },
  {
   "cell_type": "code",
   "execution_count": 15,
   "metadata": {},
   "outputs": [],
   "source": [
    "import gplearn"
   ]
  },
  {
   "cell_type": "code",
   "execution_count": 21,
   "metadata": {},
   "outputs": [],
   "source": [
    "from gplearn.genetic import SymbolicClassifier"
   ]
  },
  {
   "cell_type": "code",
   "execution_count": 22,
   "metadata": {},
   "outputs": [],
   "source": [
    "classsifier=SymbolicClassifier()"
   ]
  },
  {
   "cell_type": "markdown",
   "metadata": {},
   "source": [
    "Seems reasonable to proceed."
   ]
  },
  {
   "cell_type": "code",
   "execution_count": 19,
   "metadata": {},
   "outputs": [
    {
     "data": {
      "text/html": [
       "<style  type=\"text/css\" >\n",
       "#T_83430299_ca84_11eb_b9bd_f875a4f92981row5_col1{\n",
       "            background-color:  lightgreen;\n",
       "        }</style><table id=\"T_83430299_ca84_11eb_b9bd_f875a4f92981\" ><thead>    <tr>        <th class=\"blank level0\" ></th>        <th class=\"col_heading level0 col0\" >Description</th>        <th class=\"col_heading level0 col1\" >Value</th>    </tr></thead><tbody>\n",
       "                <tr>\n",
       "                        <th id=\"T_83430299_ca84_11eb_b9bd_f875a4f92981level0_row0\" class=\"row_heading level0 row0\" >0</th>\n",
       "                        <td id=\"T_83430299_ca84_11eb_b9bd_f875a4f92981row0_col0\" class=\"data row0 col0\" >session_id</td>\n",
       "                        <td id=\"T_83430299_ca84_11eb_b9bd_f875a4f92981row0_col1\" class=\"data row0 col1\" >6272</td>\n",
       "            </tr>\n",
       "            <tr>\n",
       "                        <th id=\"T_83430299_ca84_11eb_b9bd_f875a4f92981level0_row1\" class=\"row_heading level0 row1\" >1</th>\n",
       "                        <td id=\"T_83430299_ca84_11eb_b9bd_f875a4f92981row1_col0\" class=\"data row1 col0\" >Target</td>\n",
       "                        <td id=\"T_83430299_ca84_11eb_b9bd_f875a4f92981row1_col1\" class=\"data row1 col1\" >STATUS_NAME</td>\n",
       "            </tr>\n",
       "            <tr>\n",
       "                        <th id=\"T_83430299_ca84_11eb_b9bd_f875a4f92981level0_row2\" class=\"row_heading level0 row2\" >2</th>\n",
       "                        <td id=\"T_83430299_ca84_11eb_b9bd_f875a4f92981row2_col0\" class=\"data row2 col0\" >Target Type</td>\n",
       "                        <td id=\"T_83430299_ca84_11eb_b9bd_f875a4f92981row2_col1\" class=\"data row2 col1\" >Binary</td>\n",
       "            </tr>\n",
       "            <tr>\n",
       "                        <th id=\"T_83430299_ca84_11eb_b9bd_f875a4f92981level0_row3\" class=\"row_heading level0 row3\" >3</th>\n",
       "                        <td id=\"T_83430299_ca84_11eb_b9bd_f875a4f92981row3_col0\" class=\"data row3 col0\" >Label Encoded</td>\n",
       "                        <td id=\"T_83430299_ca84_11eb_b9bd_f875a4f92981row3_col1\" class=\"data row3 col1\" >Inforce: 0, Lapsed: 1</td>\n",
       "            </tr>\n",
       "            <tr>\n",
       "                        <th id=\"T_83430299_ca84_11eb_b9bd_f875a4f92981level0_row4\" class=\"row_heading level0 row4\" >4</th>\n",
       "                        <td id=\"T_83430299_ca84_11eb_b9bd_f875a4f92981row4_col0\" class=\"data row4 col0\" >Original Data</td>\n",
       "                        <td id=\"T_83430299_ca84_11eb_b9bd_f875a4f92981row4_col1\" class=\"data row4 col1\" >(50000, 18)</td>\n",
       "            </tr>\n",
       "            <tr>\n",
       "                        <th id=\"T_83430299_ca84_11eb_b9bd_f875a4f92981level0_row5\" class=\"row_heading level0 row5\" >5</th>\n",
       "                        <td id=\"T_83430299_ca84_11eb_b9bd_f875a4f92981row5_col0\" class=\"data row5 col0\" >Missing Values</td>\n",
       "                        <td id=\"T_83430299_ca84_11eb_b9bd_f875a4f92981row5_col1\" class=\"data row5 col1\" >True</td>\n",
       "            </tr>\n",
       "            <tr>\n",
       "                        <th id=\"T_83430299_ca84_11eb_b9bd_f875a4f92981level0_row6\" class=\"row_heading level0 row6\" >6</th>\n",
       "                        <td id=\"T_83430299_ca84_11eb_b9bd_f875a4f92981row6_col0\" class=\"data row6 col0\" >Numeric Features</td>\n",
       "                        <td id=\"T_83430299_ca84_11eb_b9bd_f875a4f92981row6_col1\" class=\"data row6 col1\" >8</td>\n",
       "            </tr>\n",
       "            <tr>\n",
       "                        <th id=\"T_83430299_ca84_11eb_b9bd_f875a4f92981level0_row7\" class=\"row_heading level0 row7\" >7</th>\n",
       "                        <td id=\"T_83430299_ca84_11eb_b9bd_f875a4f92981row7_col0\" class=\"data row7 col0\" >Categorical Features</td>\n",
       "                        <td id=\"T_83430299_ca84_11eb_b9bd_f875a4f92981row7_col1\" class=\"data row7 col1\" >9</td>\n",
       "            </tr>\n",
       "            <tr>\n",
       "                        <th id=\"T_83430299_ca84_11eb_b9bd_f875a4f92981level0_row8\" class=\"row_heading level0 row8\" >8</th>\n",
       "                        <td id=\"T_83430299_ca84_11eb_b9bd_f875a4f92981row8_col0\" class=\"data row8 col0\" >Ordinal Features</td>\n",
       "                        <td id=\"T_83430299_ca84_11eb_b9bd_f875a4f92981row8_col1\" class=\"data row8 col1\" >False</td>\n",
       "            </tr>\n",
       "            <tr>\n",
       "                        <th id=\"T_83430299_ca84_11eb_b9bd_f875a4f92981level0_row9\" class=\"row_heading level0 row9\" >9</th>\n",
       "                        <td id=\"T_83430299_ca84_11eb_b9bd_f875a4f92981row9_col0\" class=\"data row9 col0\" >High Cardinality Features</td>\n",
       "                        <td id=\"T_83430299_ca84_11eb_b9bd_f875a4f92981row9_col1\" class=\"data row9 col1\" >False</td>\n",
       "            </tr>\n",
       "            <tr>\n",
       "                        <th id=\"T_83430299_ca84_11eb_b9bd_f875a4f92981level0_row10\" class=\"row_heading level0 row10\" >10</th>\n",
       "                        <td id=\"T_83430299_ca84_11eb_b9bd_f875a4f92981row10_col0\" class=\"data row10 col0\" >High Cardinality Method</td>\n",
       "                        <td id=\"T_83430299_ca84_11eb_b9bd_f875a4f92981row10_col1\" class=\"data row10 col1\" >None</td>\n",
       "            </tr>\n",
       "            <tr>\n",
       "                        <th id=\"T_83430299_ca84_11eb_b9bd_f875a4f92981level0_row11\" class=\"row_heading level0 row11\" >11</th>\n",
       "                        <td id=\"T_83430299_ca84_11eb_b9bd_f875a4f92981row11_col0\" class=\"data row11 col0\" >Transformed Train Set</td>\n",
       "                        <td id=\"T_83430299_ca84_11eb_b9bd_f875a4f92981row11_col1\" class=\"data row11 col1\" >(34999, 106)</td>\n",
       "            </tr>\n",
       "            <tr>\n",
       "                        <th id=\"T_83430299_ca84_11eb_b9bd_f875a4f92981level0_row12\" class=\"row_heading level0 row12\" >12</th>\n",
       "                        <td id=\"T_83430299_ca84_11eb_b9bd_f875a4f92981row12_col0\" class=\"data row12 col0\" >Transformed Test Set</td>\n",
       "                        <td id=\"T_83430299_ca84_11eb_b9bd_f875a4f92981row12_col1\" class=\"data row12 col1\" >(15001, 106)</td>\n",
       "            </tr>\n",
       "            <tr>\n",
       "                        <th id=\"T_83430299_ca84_11eb_b9bd_f875a4f92981level0_row13\" class=\"row_heading level0 row13\" >13</th>\n",
       "                        <td id=\"T_83430299_ca84_11eb_b9bd_f875a4f92981row13_col0\" class=\"data row13 col0\" >Shuffle Train-Test</td>\n",
       "                        <td id=\"T_83430299_ca84_11eb_b9bd_f875a4f92981row13_col1\" class=\"data row13 col1\" >True</td>\n",
       "            </tr>\n",
       "            <tr>\n",
       "                        <th id=\"T_83430299_ca84_11eb_b9bd_f875a4f92981level0_row14\" class=\"row_heading level0 row14\" >14</th>\n",
       "                        <td id=\"T_83430299_ca84_11eb_b9bd_f875a4f92981row14_col0\" class=\"data row14 col0\" >Stratify Train-Test</td>\n",
       "                        <td id=\"T_83430299_ca84_11eb_b9bd_f875a4f92981row14_col1\" class=\"data row14 col1\" >False</td>\n",
       "            </tr>\n",
       "            <tr>\n",
       "                        <th id=\"T_83430299_ca84_11eb_b9bd_f875a4f92981level0_row15\" class=\"row_heading level0 row15\" >15</th>\n",
       "                        <td id=\"T_83430299_ca84_11eb_b9bd_f875a4f92981row15_col0\" class=\"data row15 col0\" >Fold Generator</td>\n",
       "                        <td id=\"T_83430299_ca84_11eb_b9bd_f875a4f92981row15_col1\" class=\"data row15 col1\" >StratifiedKFold</td>\n",
       "            </tr>\n",
       "            <tr>\n",
       "                        <th id=\"T_83430299_ca84_11eb_b9bd_f875a4f92981level0_row16\" class=\"row_heading level0 row16\" >16</th>\n",
       "                        <td id=\"T_83430299_ca84_11eb_b9bd_f875a4f92981row16_col0\" class=\"data row16 col0\" >Fold Number</td>\n",
       "                        <td id=\"T_83430299_ca84_11eb_b9bd_f875a4f92981row16_col1\" class=\"data row16 col1\" >10</td>\n",
       "            </tr>\n",
       "            <tr>\n",
       "                        <th id=\"T_83430299_ca84_11eb_b9bd_f875a4f92981level0_row17\" class=\"row_heading level0 row17\" >17</th>\n",
       "                        <td id=\"T_83430299_ca84_11eb_b9bd_f875a4f92981row17_col0\" class=\"data row17 col0\" >CPU Jobs</td>\n",
       "                        <td id=\"T_83430299_ca84_11eb_b9bd_f875a4f92981row17_col1\" class=\"data row17 col1\" >-1</td>\n",
       "            </tr>\n",
       "            <tr>\n",
       "                        <th id=\"T_83430299_ca84_11eb_b9bd_f875a4f92981level0_row18\" class=\"row_heading level0 row18\" >18</th>\n",
       "                        <td id=\"T_83430299_ca84_11eb_b9bd_f875a4f92981row18_col0\" class=\"data row18 col0\" >Use GPU</td>\n",
       "                        <td id=\"T_83430299_ca84_11eb_b9bd_f875a4f92981row18_col1\" class=\"data row18 col1\" >False</td>\n",
       "            </tr>\n",
       "            <tr>\n",
       "                        <th id=\"T_83430299_ca84_11eb_b9bd_f875a4f92981level0_row19\" class=\"row_heading level0 row19\" >19</th>\n",
       "                        <td id=\"T_83430299_ca84_11eb_b9bd_f875a4f92981row19_col0\" class=\"data row19 col0\" >Log Experiment</td>\n",
       "                        <td id=\"T_83430299_ca84_11eb_b9bd_f875a4f92981row19_col1\" class=\"data row19 col1\" >False</td>\n",
       "            </tr>\n",
       "            <tr>\n",
       "                        <th id=\"T_83430299_ca84_11eb_b9bd_f875a4f92981level0_row20\" class=\"row_heading level0 row20\" >20</th>\n",
       "                        <td id=\"T_83430299_ca84_11eb_b9bd_f875a4f92981row20_col0\" class=\"data row20 col0\" >Experiment Name</td>\n",
       "                        <td id=\"T_83430299_ca84_11eb_b9bd_f875a4f92981row20_col1\" class=\"data row20 col1\" >clf-default-name</td>\n",
       "            </tr>\n",
       "            <tr>\n",
       "                        <th id=\"T_83430299_ca84_11eb_b9bd_f875a4f92981level0_row21\" class=\"row_heading level0 row21\" >21</th>\n",
       "                        <td id=\"T_83430299_ca84_11eb_b9bd_f875a4f92981row21_col0\" class=\"data row21 col0\" >USI</td>\n",
       "                        <td id=\"T_83430299_ca84_11eb_b9bd_f875a4f92981row21_col1\" class=\"data row21 col1\" >13cc</td>\n",
       "            </tr>\n",
       "            <tr>\n",
       "                        <th id=\"T_83430299_ca84_11eb_b9bd_f875a4f92981level0_row22\" class=\"row_heading level0 row22\" >22</th>\n",
       "                        <td id=\"T_83430299_ca84_11eb_b9bd_f875a4f92981row22_col0\" class=\"data row22 col0\" >Imputation Type</td>\n",
       "                        <td id=\"T_83430299_ca84_11eb_b9bd_f875a4f92981row22_col1\" class=\"data row22 col1\" >simple</td>\n",
       "            </tr>\n",
       "            <tr>\n",
       "                        <th id=\"T_83430299_ca84_11eb_b9bd_f875a4f92981level0_row23\" class=\"row_heading level0 row23\" >23</th>\n",
       "                        <td id=\"T_83430299_ca84_11eb_b9bd_f875a4f92981row23_col0\" class=\"data row23 col0\" >Iterative Imputation Iteration</td>\n",
       "                        <td id=\"T_83430299_ca84_11eb_b9bd_f875a4f92981row23_col1\" class=\"data row23 col1\" >None</td>\n",
       "            </tr>\n",
       "            <tr>\n",
       "                        <th id=\"T_83430299_ca84_11eb_b9bd_f875a4f92981level0_row24\" class=\"row_heading level0 row24\" >24</th>\n",
       "                        <td id=\"T_83430299_ca84_11eb_b9bd_f875a4f92981row24_col0\" class=\"data row24 col0\" >Numeric Imputer</td>\n",
       "                        <td id=\"T_83430299_ca84_11eb_b9bd_f875a4f92981row24_col1\" class=\"data row24 col1\" >mean</td>\n",
       "            </tr>\n",
       "            <tr>\n",
       "                        <th id=\"T_83430299_ca84_11eb_b9bd_f875a4f92981level0_row25\" class=\"row_heading level0 row25\" >25</th>\n",
       "                        <td id=\"T_83430299_ca84_11eb_b9bd_f875a4f92981row25_col0\" class=\"data row25 col0\" >Iterative Imputation Numeric Model</td>\n",
       "                        <td id=\"T_83430299_ca84_11eb_b9bd_f875a4f92981row25_col1\" class=\"data row25 col1\" >None</td>\n",
       "            </tr>\n",
       "            <tr>\n",
       "                        <th id=\"T_83430299_ca84_11eb_b9bd_f875a4f92981level0_row26\" class=\"row_heading level0 row26\" >26</th>\n",
       "                        <td id=\"T_83430299_ca84_11eb_b9bd_f875a4f92981row26_col0\" class=\"data row26 col0\" >Categorical Imputer</td>\n",
       "                        <td id=\"T_83430299_ca84_11eb_b9bd_f875a4f92981row26_col1\" class=\"data row26 col1\" >constant</td>\n",
       "            </tr>\n",
       "            <tr>\n",
       "                        <th id=\"T_83430299_ca84_11eb_b9bd_f875a4f92981level0_row27\" class=\"row_heading level0 row27\" >27</th>\n",
       "                        <td id=\"T_83430299_ca84_11eb_b9bd_f875a4f92981row27_col0\" class=\"data row27 col0\" >Iterative Imputation Categorical Model</td>\n",
       "                        <td id=\"T_83430299_ca84_11eb_b9bd_f875a4f92981row27_col1\" class=\"data row27 col1\" >None</td>\n",
       "            </tr>\n",
       "            <tr>\n",
       "                        <th id=\"T_83430299_ca84_11eb_b9bd_f875a4f92981level0_row28\" class=\"row_heading level0 row28\" >28</th>\n",
       "                        <td id=\"T_83430299_ca84_11eb_b9bd_f875a4f92981row28_col0\" class=\"data row28 col0\" >Unknown Categoricals Handling</td>\n",
       "                        <td id=\"T_83430299_ca84_11eb_b9bd_f875a4f92981row28_col1\" class=\"data row28 col1\" >least_frequent</td>\n",
       "            </tr>\n",
       "            <tr>\n",
       "                        <th id=\"T_83430299_ca84_11eb_b9bd_f875a4f92981level0_row29\" class=\"row_heading level0 row29\" >29</th>\n",
       "                        <td id=\"T_83430299_ca84_11eb_b9bd_f875a4f92981row29_col0\" class=\"data row29 col0\" >Normalize</td>\n",
       "                        <td id=\"T_83430299_ca84_11eb_b9bd_f875a4f92981row29_col1\" class=\"data row29 col1\" >False</td>\n",
       "            </tr>\n",
       "            <tr>\n",
       "                        <th id=\"T_83430299_ca84_11eb_b9bd_f875a4f92981level0_row30\" class=\"row_heading level0 row30\" >30</th>\n",
       "                        <td id=\"T_83430299_ca84_11eb_b9bd_f875a4f92981row30_col0\" class=\"data row30 col0\" >Normalize Method</td>\n",
       "                        <td id=\"T_83430299_ca84_11eb_b9bd_f875a4f92981row30_col1\" class=\"data row30 col1\" >None</td>\n",
       "            </tr>\n",
       "            <tr>\n",
       "                        <th id=\"T_83430299_ca84_11eb_b9bd_f875a4f92981level0_row31\" class=\"row_heading level0 row31\" >31</th>\n",
       "                        <td id=\"T_83430299_ca84_11eb_b9bd_f875a4f92981row31_col0\" class=\"data row31 col0\" >Transformation</td>\n",
       "                        <td id=\"T_83430299_ca84_11eb_b9bd_f875a4f92981row31_col1\" class=\"data row31 col1\" >False</td>\n",
       "            </tr>\n",
       "            <tr>\n",
       "                        <th id=\"T_83430299_ca84_11eb_b9bd_f875a4f92981level0_row32\" class=\"row_heading level0 row32\" >32</th>\n",
       "                        <td id=\"T_83430299_ca84_11eb_b9bd_f875a4f92981row32_col0\" class=\"data row32 col0\" >Transformation Method</td>\n",
       "                        <td id=\"T_83430299_ca84_11eb_b9bd_f875a4f92981row32_col1\" class=\"data row32 col1\" >None</td>\n",
       "            </tr>\n",
       "            <tr>\n",
       "                        <th id=\"T_83430299_ca84_11eb_b9bd_f875a4f92981level0_row33\" class=\"row_heading level0 row33\" >33</th>\n",
       "                        <td id=\"T_83430299_ca84_11eb_b9bd_f875a4f92981row33_col0\" class=\"data row33 col0\" >PCA</td>\n",
       "                        <td id=\"T_83430299_ca84_11eb_b9bd_f875a4f92981row33_col1\" class=\"data row33 col1\" >False</td>\n",
       "            </tr>\n",
       "            <tr>\n",
       "                        <th id=\"T_83430299_ca84_11eb_b9bd_f875a4f92981level0_row34\" class=\"row_heading level0 row34\" >34</th>\n",
       "                        <td id=\"T_83430299_ca84_11eb_b9bd_f875a4f92981row34_col0\" class=\"data row34 col0\" >PCA Method</td>\n",
       "                        <td id=\"T_83430299_ca84_11eb_b9bd_f875a4f92981row34_col1\" class=\"data row34 col1\" >None</td>\n",
       "            </tr>\n",
       "            <tr>\n",
       "                        <th id=\"T_83430299_ca84_11eb_b9bd_f875a4f92981level0_row35\" class=\"row_heading level0 row35\" >35</th>\n",
       "                        <td id=\"T_83430299_ca84_11eb_b9bd_f875a4f92981row35_col0\" class=\"data row35 col0\" >PCA Components</td>\n",
       "                        <td id=\"T_83430299_ca84_11eb_b9bd_f875a4f92981row35_col1\" class=\"data row35 col1\" >None</td>\n",
       "            </tr>\n",
       "            <tr>\n",
       "                        <th id=\"T_83430299_ca84_11eb_b9bd_f875a4f92981level0_row36\" class=\"row_heading level0 row36\" >36</th>\n",
       "                        <td id=\"T_83430299_ca84_11eb_b9bd_f875a4f92981row36_col0\" class=\"data row36 col0\" >Ignore Low Variance</td>\n",
       "                        <td id=\"T_83430299_ca84_11eb_b9bd_f875a4f92981row36_col1\" class=\"data row36 col1\" >False</td>\n",
       "            </tr>\n",
       "            <tr>\n",
       "                        <th id=\"T_83430299_ca84_11eb_b9bd_f875a4f92981level0_row37\" class=\"row_heading level0 row37\" >37</th>\n",
       "                        <td id=\"T_83430299_ca84_11eb_b9bd_f875a4f92981row37_col0\" class=\"data row37 col0\" >Combine Rare Levels</td>\n",
       "                        <td id=\"T_83430299_ca84_11eb_b9bd_f875a4f92981row37_col1\" class=\"data row37 col1\" >False</td>\n",
       "            </tr>\n",
       "            <tr>\n",
       "                        <th id=\"T_83430299_ca84_11eb_b9bd_f875a4f92981level0_row38\" class=\"row_heading level0 row38\" >38</th>\n",
       "                        <td id=\"T_83430299_ca84_11eb_b9bd_f875a4f92981row38_col0\" class=\"data row38 col0\" >Rare Level Threshold</td>\n",
       "                        <td id=\"T_83430299_ca84_11eb_b9bd_f875a4f92981row38_col1\" class=\"data row38 col1\" >None</td>\n",
       "            </tr>\n",
       "            <tr>\n",
       "                        <th id=\"T_83430299_ca84_11eb_b9bd_f875a4f92981level0_row39\" class=\"row_heading level0 row39\" >39</th>\n",
       "                        <td id=\"T_83430299_ca84_11eb_b9bd_f875a4f92981row39_col0\" class=\"data row39 col0\" >Numeric Binning</td>\n",
       "                        <td id=\"T_83430299_ca84_11eb_b9bd_f875a4f92981row39_col1\" class=\"data row39 col1\" >False</td>\n",
       "            </tr>\n",
       "            <tr>\n",
       "                        <th id=\"T_83430299_ca84_11eb_b9bd_f875a4f92981level0_row40\" class=\"row_heading level0 row40\" >40</th>\n",
       "                        <td id=\"T_83430299_ca84_11eb_b9bd_f875a4f92981row40_col0\" class=\"data row40 col0\" >Remove Outliers</td>\n",
       "                        <td id=\"T_83430299_ca84_11eb_b9bd_f875a4f92981row40_col1\" class=\"data row40 col1\" >False</td>\n",
       "            </tr>\n",
       "            <tr>\n",
       "                        <th id=\"T_83430299_ca84_11eb_b9bd_f875a4f92981level0_row41\" class=\"row_heading level0 row41\" >41</th>\n",
       "                        <td id=\"T_83430299_ca84_11eb_b9bd_f875a4f92981row41_col0\" class=\"data row41 col0\" >Outliers Threshold</td>\n",
       "                        <td id=\"T_83430299_ca84_11eb_b9bd_f875a4f92981row41_col1\" class=\"data row41 col1\" >None</td>\n",
       "            </tr>\n",
       "            <tr>\n",
       "                        <th id=\"T_83430299_ca84_11eb_b9bd_f875a4f92981level0_row42\" class=\"row_heading level0 row42\" >42</th>\n",
       "                        <td id=\"T_83430299_ca84_11eb_b9bd_f875a4f92981row42_col0\" class=\"data row42 col0\" >Remove Multicollinearity</td>\n",
       "                        <td id=\"T_83430299_ca84_11eb_b9bd_f875a4f92981row42_col1\" class=\"data row42 col1\" >False</td>\n",
       "            </tr>\n",
       "            <tr>\n",
       "                        <th id=\"T_83430299_ca84_11eb_b9bd_f875a4f92981level0_row43\" class=\"row_heading level0 row43\" >43</th>\n",
       "                        <td id=\"T_83430299_ca84_11eb_b9bd_f875a4f92981row43_col0\" class=\"data row43 col0\" >Multicollinearity Threshold</td>\n",
       "                        <td id=\"T_83430299_ca84_11eb_b9bd_f875a4f92981row43_col1\" class=\"data row43 col1\" >None</td>\n",
       "            </tr>\n",
       "            <tr>\n",
       "                        <th id=\"T_83430299_ca84_11eb_b9bd_f875a4f92981level0_row44\" class=\"row_heading level0 row44\" >44</th>\n",
       "                        <td id=\"T_83430299_ca84_11eb_b9bd_f875a4f92981row44_col0\" class=\"data row44 col0\" >Clustering</td>\n",
       "                        <td id=\"T_83430299_ca84_11eb_b9bd_f875a4f92981row44_col1\" class=\"data row44 col1\" >False</td>\n",
       "            </tr>\n",
       "            <tr>\n",
       "                        <th id=\"T_83430299_ca84_11eb_b9bd_f875a4f92981level0_row45\" class=\"row_heading level0 row45\" >45</th>\n",
       "                        <td id=\"T_83430299_ca84_11eb_b9bd_f875a4f92981row45_col0\" class=\"data row45 col0\" >Clustering Iteration</td>\n",
       "                        <td id=\"T_83430299_ca84_11eb_b9bd_f875a4f92981row45_col1\" class=\"data row45 col1\" >None</td>\n",
       "            </tr>\n",
       "            <tr>\n",
       "                        <th id=\"T_83430299_ca84_11eb_b9bd_f875a4f92981level0_row46\" class=\"row_heading level0 row46\" >46</th>\n",
       "                        <td id=\"T_83430299_ca84_11eb_b9bd_f875a4f92981row46_col0\" class=\"data row46 col0\" >Polynomial Features</td>\n",
       "                        <td id=\"T_83430299_ca84_11eb_b9bd_f875a4f92981row46_col1\" class=\"data row46 col1\" >False</td>\n",
       "            </tr>\n",
       "            <tr>\n",
       "                        <th id=\"T_83430299_ca84_11eb_b9bd_f875a4f92981level0_row47\" class=\"row_heading level0 row47\" >47</th>\n",
       "                        <td id=\"T_83430299_ca84_11eb_b9bd_f875a4f92981row47_col0\" class=\"data row47 col0\" >Polynomial Degree</td>\n",
       "                        <td id=\"T_83430299_ca84_11eb_b9bd_f875a4f92981row47_col1\" class=\"data row47 col1\" >None</td>\n",
       "            </tr>\n",
       "            <tr>\n",
       "                        <th id=\"T_83430299_ca84_11eb_b9bd_f875a4f92981level0_row48\" class=\"row_heading level0 row48\" >48</th>\n",
       "                        <td id=\"T_83430299_ca84_11eb_b9bd_f875a4f92981row48_col0\" class=\"data row48 col0\" >Trignometry Features</td>\n",
       "                        <td id=\"T_83430299_ca84_11eb_b9bd_f875a4f92981row48_col1\" class=\"data row48 col1\" >False</td>\n",
       "            </tr>\n",
       "            <tr>\n",
       "                        <th id=\"T_83430299_ca84_11eb_b9bd_f875a4f92981level0_row49\" class=\"row_heading level0 row49\" >49</th>\n",
       "                        <td id=\"T_83430299_ca84_11eb_b9bd_f875a4f92981row49_col0\" class=\"data row49 col0\" >Polynomial Threshold</td>\n",
       "                        <td id=\"T_83430299_ca84_11eb_b9bd_f875a4f92981row49_col1\" class=\"data row49 col1\" >None</td>\n",
       "            </tr>\n",
       "            <tr>\n",
       "                        <th id=\"T_83430299_ca84_11eb_b9bd_f875a4f92981level0_row50\" class=\"row_heading level0 row50\" >50</th>\n",
       "                        <td id=\"T_83430299_ca84_11eb_b9bd_f875a4f92981row50_col0\" class=\"data row50 col0\" >Group Features</td>\n",
       "                        <td id=\"T_83430299_ca84_11eb_b9bd_f875a4f92981row50_col1\" class=\"data row50 col1\" >False</td>\n",
       "            </tr>\n",
       "            <tr>\n",
       "                        <th id=\"T_83430299_ca84_11eb_b9bd_f875a4f92981level0_row51\" class=\"row_heading level0 row51\" >51</th>\n",
       "                        <td id=\"T_83430299_ca84_11eb_b9bd_f875a4f92981row51_col0\" class=\"data row51 col0\" >Feature Selection</td>\n",
       "                        <td id=\"T_83430299_ca84_11eb_b9bd_f875a4f92981row51_col1\" class=\"data row51 col1\" >False</td>\n",
       "            </tr>\n",
       "            <tr>\n",
       "                        <th id=\"T_83430299_ca84_11eb_b9bd_f875a4f92981level0_row52\" class=\"row_heading level0 row52\" >52</th>\n",
       "                        <td id=\"T_83430299_ca84_11eb_b9bd_f875a4f92981row52_col0\" class=\"data row52 col0\" >Feature Selection Method</td>\n",
       "                        <td id=\"T_83430299_ca84_11eb_b9bd_f875a4f92981row52_col1\" class=\"data row52 col1\" >classic</td>\n",
       "            </tr>\n",
       "            <tr>\n",
       "                        <th id=\"T_83430299_ca84_11eb_b9bd_f875a4f92981level0_row53\" class=\"row_heading level0 row53\" >53</th>\n",
       "                        <td id=\"T_83430299_ca84_11eb_b9bd_f875a4f92981row53_col0\" class=\"data row53 col0\" >Features Selection Threshold</td>\n",
       "                        <td id=\"T_83430299_ca84_11eb_b9bd_f875a4f92981row53_col1\" class=\"data row53 col1\" >None</td>\n",
       "            </tr>\n",
       "            <tr>\n",
       "                        <th id=\"T_83430299_ca84_11eb_b9bd_f875a4f92981level0_row54\" class=\"row_heading level0 row54\" >54</th>\n",
       "                        <td id=\"T_83430299_ca84_11eb_b9bd_f875a4f92981row54_col0\" class=\"data row54 col0\" >Feature Interaction</td>\n",
       "                        <td id=\"T_83430299_ca84_11eb_b9bd_f875a4f92981row54_col1\" class=\"data row54 col1\" >False</td>\n",
       "            </tr>\n",
       "            <tr>\n",
       "                        <th id=\"T_83430299_ca84_11eb_b9bd_f875a4f92981level0_row55\" class=\"row_heading level0 row55\" >55</th>\n",
       "                        <td id=\"T_83430299_ca84_11eb_b9bd_f875a4f92981row55_col0\" class=\"data row55 col0\" >Feature Ratio</td>\n",
       "                        <td id=\"T_83430299_ca84_11eb_b9bd_f875a4f92981row55_col1\" class=\"data row55 col1\" >False</td>\n",
       "            </tr>\n",
       "            <tr>\n",
       "                        <th id=\"T_83430299_ca84_11eb_b9bd_f875a4f92981level0_row56\" class=\"row_heading level0 row56\" >56</th>\n",
       "                        <td id=\"T_83430299_ca84_11eb_b9bd_f875a4f92981row56_col0\" class=\"data row56 col0\" >Interaction Threshold</td>\n",
       "                        <td id=\"T_83430299_ca84_11eb_b9bd_f875a4f92981row56_col1\" class=\"data row56 col1\" >None</td>\n",
       "            </tr>\n",
       "            <tr>\n",
       "                        <th id=\"T_83430299_ca84_11eb_b9bd_f875a4f92981level0_row57\" class=\"row_heading level0 row57\" >57</th>\n",
       "                        <td id=\"T_83430299_ca84_11eb_b9bd_f875a4f92981row57_col0\" class=\"data row57 col0\" >Fix Imbalance</td>\n",
       "                        <td id=\"T_83430299_ca84_11eb_b9bd_f875a4f92981row57_col1\" class=\"data row57 col1\" >False</td>\n",
       "            </tr>\n",
       "            <tr>\n",
       "                        <th id=\"T_83430299_ca84_11eb_b9bd_f875a4f92981level0_row58\" class=\"row_heading level0 row58\" >58</th>\n",
       "                        <td id=\"T_83430299_ca84_11eb_b9bd_f875a4f92981row58_col0\" class=\"data row58 col0\" >Fix Imbalance Method</td>\n",
       "                        <td id=\"T_83430299_ca84_11eb_b9bd_f875a4f92981row58_col1\" class=\"data row58 col1\" >SMOTE</td>\n",
       "            </tr>\n",
       "    </tbody></table>"
      ],
      "text/plain": [
       "<pandas.io.formats.style.Styler at 0x16881b43340>"
      ]
     },
     "metadata": {},
     "output_type": "display_data"
    }
   ],
   "source": [
    "#Set up an experiement\n",
    "exp=setup(df2,target='STATUS_NAME')"
   ]
  },
  {
   "cell_type": "code",
   "execution_count": 24,
   "metadata": {},
   "outputs": [
    {
     "data": {
      "text/html": [
       "<style  type=\"text/css\" >\n",
       "#T_8d27beaa_ca86_11eb_823d_f875a4f92981row10_col0,#T_8d27beaa_ca86_11eb_823d_f875a4f92981row10_col1,#T_8d27beaa_ca86_11eb_823d_f875a4f92981row10_col2,#T_8d27beaa_ca86_11eb_823d_f875a4f92981row10_col3,#T_8d27beaa_ca86_11eb_823d_f875a4f92981row10_col4,#T_8d27beaa_ca86_11eb_823d_f875a4f92981row10_col5,#T_8d27beaa_ca86_11eb_823d_f875a4f92981row10_col6{\n",
       "            background:  yellow;\n",
       "        }</style><table id=\"T_8d27beaa_ca86_11eb_823d_f875a4f92981\" ><thead>    <tr>        <th class=\"blank level0\" ></th>        <th class=\"col_heading level0 col0\" >Accuracy</th>        <th class=\"col_heading level0 col1\" >AUC</th>        <th class=\"col_heading level0 col2\" >Recall</th>        <th class=\"col_heading level0 col3\" >Prec.</th>        <th class=\"col_heading level0 col4\" >F1</th>        <th class=\"col_heading level0 col5\" >Kappa</th>        <th class=\"col_heading level0 col6\" >MCC</th>    </tr></thead><tbody>\n",
       "                <tr>\n",
       "                        <th id=\"T_8d27beaa_ca86_11eb_823d_f875a4f92981level0_row0\" class=\"row_heading level0 row0\" >0</th>\n",
       "                        <td id=\"T_8d27beaa_ca86_11eb_823d_f875a4f92981row0_col0\" class=\"data row0 col0\" >0.6926</td>\n",
       "                        <td id=\"T_8d27beaa_ca86_11eb_823d_f875a4f92981row0_col1\" class=\"data row0 col1\" >0.6771</td>\n",
       "                        <td id=\"T_8d27beaa_ca86_11eb_823d_f875a4f92981row0_col2\" class=\"data row0 col2\" >1.0000</td>\n",
       "                        <td id=\"T_8d27beaa_ca86_11eb_823d_f875a4f92981row0_col3\" class=\"data row0 col3\" >0.6926</td>\n",
       "                        <td id=\"T_8d27beaa_ca86_11eb_823d_f875a4f92981row0_col4\" class=\"data row0 col4\" >0.8184</td>\n",
       "                        <td id=\"T_8d27beaa_ca86_11eb_823d_f875a4f92981row0_col5\" class=\"data row0 col5\" >0.0000</td>\n",
       "                        <td id=\"T_8d27beaa_ca86_11eb_823d_f875a4f92981row0_col6\" class=\"data row0 col6\" >0.0000</td>\n",
       "            </tr>\n",
       "            <tr>\n",
       "                        <th id=\"T_8d27beaa_ca86_11eb_823d_f875a4f92981level0_row1\" class=\"row_heading level0 row1\" >1</th>\n",
       "                        <td id=\"T_8d27beaa_ca86_11eb_823d_f875a4f92981row1_col0\" class=\"data row1 col0\" >0.7157</td>\n",
       "                        <td id=\"T_8d27beaa_ca86_11eb_823d_f875a4f92981row1_col1\" class=\"data row1 col1\" >0.5504</td>\n",
       "                        <td id=\"T_8d27beaa_ca86_11eb_823d_f875a4f92981row1_col2\" class=\"data row1 col2\" >0.9802</td>\n",
       "                        <td id=\"T_8d27beaa_ca86_11eb_823d_f875a4f92981row1_col3\" class=\"data row1 col3\" >0.7149</td>\n",
       "                        <td id=\"T_8d27beaa_ca86_11eb_823d_f875a4f92981row1_col4\" class=\"data row1 col4\" >0.8268</td>\n",
       "                        <td id=\"T_8d27beaa_ca86_11eb_823d_f875a4f92981row1_col5\" class=\"data row1 col5\" >0.1313</td>\n",
       "                        <td id=\"T_8d27beaa_ca86_11eb_823d_f875a4f92981row1_col6\" class=\"data row1 col6\" >0.2120</td>\n",
       "            </tr>\n",
       "            <tr>\n",
       "                        <th id=\"T_8d27beaa_ca86_11eb_823d_f875a4f92981level0_row2\" class=\"row_heading level0 row2\" >2</th>\n",
       "                        <td id=\"T_8d27beaa_ca86_11eb_823d_f875a4f92981row2_col0\" class=\"data row2 col0\" >0.7131</td>\n",
       "                        <td id=\"T_8d27beaa_ca86_11eb_823d_f875a4f92981row2_col1\" class=\"data row2 col1\" >0.7009</td>\n",
       "                        <td id=\"T_8d27beaa_ca86_11eb_823d_f875a4f92981row2_col2\" class=\"data row2 col2\" >0.9794</td>\n",
       "                        <td id=\"T_8d27beaa_ca86_11eb_823d_f875a4f92981row2_col3\" class=\"data row2 col3\" >0.7133</td>\n",
       "                        <td id=\"T_8d27beaa_ca86_11eb_823d_f875a4f92981row2_col4\" class=\"data row2 col4\" >0.8254</td>\n",
       "                        <td id=\"T_8d27beaa_ca86_11eb_823d_f875a4f92981row2_col5\" class=\"data row2 col5\" >0.1220</td>\n",
       "                        <td id=\"T_8d27beaa_ca86_11eb_823d_f875a4f92981row2_col6\" class=\"data row2 col6\" >0.1992</td>\n",
       "            </tr>\n",
       "            <tr>\n",
       "                        <th id=\"T_8d27beaa_ca86_11eb_823d_f875a4f92981level0_row3\" class=\"row_heading level0 row3\" >3</th>\n",
       "                        <td id=\"T_8d27beaa_ca86_11eb_823d_f875a4f92981row3_col0\" class=\"data row3 col0\" >0.7437</td>\n",
       "                        <td id=\"T_8d27beaa_ca86_11eb_823d_f875a4f92981row3_col1\" class=\"data row3 col1\" >0.7817</td>\n",
       "                        <td id=\"T_8d27beaa_ca86_11eb_823d_f875a4f92981row3_col2\" class=\"data row3 col2\" >0.9538</td>\n",
       "                        <td id=\"T_8d27beaa_ca86_11eb_823d_f875a4f92981row3_col3\" class=\"data row3 col3\" >0.7464</td>\n",
       "                        <td id=\"T_8d27beaa_ca86_11eb_823d_f875a4f92981row3_col4\" class=\"data row3 col4\" >0.8375</td>\n",
       "                        <td id=\"T_8d27beaa_ca86_11eb_823d_f875a4f92981row3_col5\" class=\"data row3 col5\" >0.2721</td>\n",
       "                        <td id=\"T_8d27beaa_ca86_11eb_823d_f875a4f92981row3_col6\" class=\"data row3 col6\" >0.3248</td>\n",
       "            </tr>\n",
       "            <tr>\n",
       "                        <th id=\"T_8d27beaa_ca86_11eb_823d_f875a4f92981level0_row4\" class=\"row_heading level0 row4\" >4</th>\n",
       "                        <td id=\"T_8d27beaa_ca86_11eb_823d_f875a4f92981row4_col0\" class=\"data row4 col0\" >0.6820</td>\n",
       "                        <td id=\"T_8d27beaa_ca86_11eb_823d_f875a4f92981row4_col1\" class=\"data row4 col1\" >0.7089</td>\n",
       "                        <td id=\"T_8d27beaa_ca86_11eb_823d_f875a4f92981row4_col2\" class=\"data row4 col2\" >0.7288</td>\n",
       "                        <td id=\"T_8d27beaa_ca86_11eb_823d_f875a4f92981row4_col3\" class=\"data row4 col3\" >0.7948</td>\n",
       "                        <td id=\"T_8d27beaa_ca86_11eb_823d_f875a4f92981row4_col4\" class=\"data row4 col4\" >0.7604</td>\n",
       "                        <td id=\"T_8d27beaa_ca86_11eb_823d_f875a4f92981row4_col5\" class=\"data row4 col5\" >0.2904</td>\n",
       "                        <td id=\"T_8d27beaa_ca86_11eb_823d_f875a4f92981row4_col6\" class=\"data row4 col6\" >0.2928</td>\n",
       "            </tr>\n",
       "            <tr>\n",
       "                        <th id=\"T_8d27beaa_ca86_11eb_823d_f875a4f92981level0_row5\" class=\"row_heading level0 row5\" >5</th>\n",
       "                        <td id=\"T_8d27beaa_ca86_11eb_823d_f875a4f92981row5_col0\" class=\"data row5 col0\" >0.6786</td>\n",
       "                        <td id=\"T_8d27beaa_ca86_11eb_823d_f875a4f92981row5_col1\" class=\"data row5 col1\" >0.6932</td>\n",
       "                        <td id=\"T_8d27beaa_ca86_11eb_823d_f875a4f92981row5_col2\" class=\"data row5 col2\" >0.8605</td>\n",
       "                        <td id=\"T_8d27beaa_ca86_11eb_823d_f875a4f92981row5_col3\" class=\"data row5 col3\" >0.7260</td>\n",
       "                        <td id=\"T_8d27beaa_ca86_11eb_823d_f875a4f92981row5_col4\" class=\"data row5 col4\" >0.7875</td>\n",
       "                        <td id=\"T_8d27beaa_ca86_11eb_823d_f875a4f92981row5_col5\" class=\"data row5 col5\" >0.1468</td>\n",
       "                        <td id=\"T_8d27beaa_ca86_11eb_823d_f875a4f92981row5_col6\" class=\"data row5 col6\" >0.1561</td>\n",
       "            </tr>\n",
       "            <tr>\n",
       "                        <th id=\"T_8d27beaa_ca86_11eb_823d_f875a4f92981level0_row6\" class=\"row_heading level0 row6\" >6</th>\n",
       "                        <td id=\"T_8d27beaa_ca86_11eb_823d_f875a4f92981row6_col0\" class=\"data row6 col0\" >0.5949</td>\n",
       "                        <td id=\"T_8d27beaa_ca86_11eb_823d_f875a4f92981row6_col1\" class=\"data row6 col1\" >0.6676</td>\n",
       "                        <td id=\"T_8d27beaa_ca86_11eb_823d_f875a4f92981row6_col2\" class=\"data row6 col2\" >0.4870</td>\n",
       "                        <td id=\"T_8d27beaa_ca86_11eb_823d_f875a4f92981row6_col3\" class=\"data row6 col3\" >0.8708</td>\n",
       "                        <td id=\"T_8d27beaa_ca86_11eb_823d_f875a4f92981row6_col4\" class=\"data row6 col4\" >0.6247</td>\n",
       "                        <td id=\"T_8d27beaa_ca86_11eb_823d_f875a4f92981row6_col5\" class=\"data row6 col5\" >0.2544</td>\n",
       "                        <td id=\"T_8d27beaa_ca86_11eb_823d_f875a4f92981row6_col6\" class=\"data row6 col6\" >0.3075</td>\n",
       "            </tr>\n",
       "            <tr>\n",
       "                        <th id=\"T_8d27beaa_ca86_11eb_823d_f875a4f92981level0_row7\" class=\"row_heading level0 row7\" >7</th>\n",
       "                        <td id=\"T_8d27beaa_ca86_11eb_823d_f875a4f92981row7_col0\" class=\"data row7 col0\" >0.6923</td>\n",
       "                        <td id=\"T_8d27beaa_ca86_11eb_823d_f875a4f92981row7_col1\" class=\"data row7 col1\" >0.5878</td>\n",
       "                        <td id=\"T_8d27beaa_ca86_11eb_823d_f875a4f92981row7_col2\" class=\"data row7 col2\" >1.0000</td>\n",
       "                        <td id=\"T_8d27beaa_ca86_11eb_823d_f875a4f92981row7_col3\" class=\"data row7 col3\" >0.6923</td>\n",
       "                        <td id=\"T_8d27beaa_ca86_11eb_823d_f875a4f92981row7_col4\" class=\"data row7 col4\" >0.8182</td>\n",
       "                        <td id=\"T_8d27beaa_ca86_11eb_823d_f875a4f92981row7_col5\" class=\"data row7 col5\" >0.0000</td>\n",
       "                        <td id=\"T_8d27beaa_ca86_11eb_823d_f875a4f92981row7_col6\" class=\"data row7 col6\" >0.0000</td>\n",
       "            </tr>\n",
       "            <tr>\n",
       "                        <th id=\"T_8d27beaa_ca86_11eb_823d_f875a4f92981level0_row8\" class=\"row_heading level0 row8\" >8</th>\n",
       "                        <td id=\"T_8d27beaa_ca86_11eb_823d_f875a4f92981row8_col0\" class=\"data row8 col0\" >0.7266</td>\n",
       "                        <td id=\"T_8d27beaa_ca86_11eb_823d_f875a4f92981row8_col1\" class=\"data row8 col1\" >0.6893</td>\n",
       "                        <td id=\"T_8d27beaa_ca86_11eb_823d_f875a4f92981row8_col2\" class=\"data row8 col2\" >0.9893</td>\n",
       "                        <td id=\"T_8d27beaa_ca86_11eb_823d_f875a4f92981row8_col3\" class=\"data row8 col3\" >0.7203</td>\n",
       "                        <td id=\"T_8d27beaa_ca86_11eb_823d_f875a4f92981row8_col4\" class=\"data row8 col4\" >0.8336</td>\n",
       "                        <td id=\"T_8d27beaa_ca86_11eb_823d_f875a4f92981row8_col5\" class=\"data row8 col5\" >0.1628</td>\n",
       "                        <td id=\"T_8d27beaa_ca86_11eb_823d_f875a4f92981row8_col6\" class=\"data row8 col6\" >0.2665</td>\n",
       "            </tr>\n",
       "            <tr>\n",
       "                        <th id=\"T_8d27beaa_ca86_11eb_823d_f875a4f92981level0_row9\" class=\"row_heading level0 row9\" >9</th>\n",
       "                        <td id=\"T_8d27beaa_ca86_11eb_823d_f875a4f92981row9_col0\" class=\"data row9 col0\" >0.6911</td>\n",
       "                        <td id=\"T_8d27beaa_ca86_11eb_823d_f875a4f92981row9_col1\" class=\"data row9 col1\" >0.7028</td>\n",
       "                        <td id=\"T_8d27beaa_ca86_11eb_823d_f875a4f92981row9_col2\" class=\"data row9 col2\" >0.9971</td>\n",
       "                        <td id=\"T_8d27beaa_ca86_11eb_823d_f875a4f92981row9_col3\" class=\"data row9 col3\" >0.6923</td>\n",
       "                        <td id=\"T_8d27beaa_ca86_11eb_823d_f875a4f92981row9_col4\" class=\"data row9 col4\" >0.8172</td>\n",
       "                        <td id=\"T_8d27beaa_ca86_11eb_823d_f875a4f92981row9_col5\" class=\"data row9 col5\" >-0.0014</td>\n",
       "                        <td id=\"T_8d27beaa_ca86_11eb_823d_f875a4f92981row9_col6\" class=\"data row9 col6\" >-0.0094</td>\n",
       "            </tr>\n",
       "            <tr>\n",
       "                        <th id=\"T_8d27beaa_ca86_11eb_823d_f875a4f92981level0_row10\" class=\"row_heading level0 row10\" >Mean</th>\n",
       "                        <td id=\"T_8d27beaa_ca86_11eb_823d_f875a4f92981row10_col0\" class=\"data row10 col0\" >0.6930</td>\n",
       "                        <td id=\"T_8d27beaa_ca86_11eb_823d_f875a4f92981row10_col1\" class=\"data row10 col1\" >0.6760</td>\n",
       "                        <td id=\"T_8d27beaa_ca86_11eb_823d_f875a4f92981row10_col2\" class=\"data row10 col2\" >0.8976</td>\n",
       "                        <td id=\"T_8d27beaa_ca86_11eb_823d_f875a4f92981row10_col3\" class=\"data row10 col3\" >0.7364</td>\n",
       "                        <td id=\"T_8d27beaa_ca86_11eb_823d_f875a4f92981row10_col4\" class=\"data row10 col4\" >0.7950</td>\n",
       "                        <td id=\"T_8d27beaa_ca86_11eb_823d_f875a4f92981row10_col5\" class=\"data row10 col5\" >0.1379</td>\n",
       "                        <td id=\"T_8d27beaa_ca86_11eb_823d_f875a4f92981row10_col6\" class=\"data row10 col6\" >0.1750</td>\n",
       "            </tr>\n",
       "            <tr>\n",
       "                        <th id=\"T_8d27beaa_ca86_11eb_823d_f875a4f92981level0_row11\" class=\"row_heading level0 row11\" >SD</th>\n",
       "                        <td id=\"T_8d27beaa_ca86_11eb_823d_f875a4f92981row11_col0\" class=\"data row11 col0\" >0.0382</td>\n",
       "                        <td id=\"T_8d27beaa_ca86_11eb_823d_f875a4f92981row11_col1\" class=\"data row11 col1\" >0.0614</td>\n",
       "                        <td id=\"T_8d27beaa_ca86_11eb_823d_f875a4f92981row11_col2\" class=\"data row11 col2\" >0.1595</td>\n",
       "                        <td id=\"T_8d27beaa_ca86_11eb_823d_f875a4f92981row11_col3\" class=\"data row11 col3\" >0.0536</td>\n",
       "                        <td id=\"T_8d27beaa_ca86_11eb_823d_f875a4f92981row11_col4\" class=\"data row11 col4\" >0.0609</td>\n",
       "                        <td id=\"T_8d27beaa_ca86_11eb_823d_f875a4f92981row11_col5\" class=\"data row11 col5\" >0.1064</td>\n",
       "                        <td id=\"T_8d27beaa_ca86_11eb_823d_f875a4f92981row11_col6\" class=\"data row11 col6\" >0.1264</td>\n",
       "            </tr>\n",
       "    </tbody></table>"
      ],
      "text/plain": [
       "<pandas.io.formats.style.Styler at 0x16897bb01c0>"
      ]
     },
     "metadata": {},
     "output_type": "display_data"
    }
   ],
   "source": [
    "#gplearn model\n",
    "SR=create_model(classsifier)"
   ]
  },
  {
   "cell_type": "markdown",
   "metadata": {},
   "source": [
    "Note that there are about 50 parameters we can tune here as pre-processing step prior to modelling"
   ]
  },
  {
   "cell_type": "code",
   "execution_count": 26,
   "metadata": {},
   "outputs": [
    {
     "data": {
      "application/vnd.jupyter.widget-view+json": {
       "model_id": "4cc0064535ba4c419cbb97037ee9646c",
       "version_major": 2,
       "version_minor": 0
      },
      "text/plain": [
       "interactive(children=(ToggleButtons(description='Plot Type:', icons=('',), options=(('Hyperparameters', 'param…"
      ]
     },
     "metadata": {},
     "output_type": "display_data"
    }
   ],
   "source": [
    "evaluate_model(SR)"
   ]
  },
  {
   "cell_type": "code",
   "execution_count": null,
   "metadata": {},
   "outputs": [],
   "source": []
  }
 ],
 "metadata": {
  "kernelspec": {
   "display_name": "Python 3",
   "language": "python",
   "name": "python3"
  },
  "language_info": {
   "codemirror_mode": {
    "name": "ipython",
    "version": 3
   },
   "file_extension": ".py",
   "mimetype": "text/x-python",
   "name": "python",
   "nbconvert_exporter": "python",
   "pygments_lexer": "ipython3",
   "version": "3.8.5"
  }
 },
 "nbformat": 4,
 "nbformat_minor": 4
}
