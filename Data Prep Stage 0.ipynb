{
 "cells": [
  {
   "cell_type": "code",
   "execution_count": 2,
   "metadata": {},
   "outputs": [],
   "source": [
    "import pandas as pd"
   ]
  },
  {
   "cell_type": "code",
   "execution_count": 3,
   "metadata": {},
   "outputs": [
    {
     "name": "stderr",
     "output_type": "stream",
     "text": [
      "C:\\ProgramData\\Anaconda3\\lib\\site-packages\\IPython\\core\\interactiveshell.py:3146: DtypeWarning: Columns (15,16) have mixed types.Specify dtype option on import or set low_memory=False.\n",
      "  has_raised = await self.run_ast_nodes(code_ast.body, cell_name,\n"
     ]
    }
   ],
   "source": [
    "#Read in the dataframe\n",
    "df=pd.read_csv('Data.csv')"
   ]
  },
  {
   "cell_type": "code",
   "execution_count": 6,
   "metadata": {},
   "outputs": [
    {
     "name": "stdout",
     "output_type": "stream",
     "text": [
      "<class 'pandas.core.frame.DataFrame'>\n",
      "RangeIndex: 681456 entries, 0 to 681455\n",
      "Data columns (total 23 columns):\n",
      " #   Column                      Non-Null Count   Dtype         \n",
      "---  ------                      --------------   -----         \n",
      " 0                               681456 non-null  int64         \n",
      " 1   POLICY_CODE                 681456 non-null  int64         \n",
      " 2   PRODUCT_CODE                659606 non-null  object        \n",
      " 3   DOC                         681456 non-null  datetime64[ns]\n",
      " 4   EXPIRY_DATE                 681456 non-null  object        \n",
      " 5   PRODUCT_TYPE                681456 non-null  object        \n",
      " 6   TERMINATION_EFFECTIVE_DATE  623016 non-null  datetime64[ns]\n",
      " 7   TERM                        681456 non-null  int64         \n",
      " 8   PREMIUM_AMOUNT              681395 non-null  float64       \n",
      " 9   SA                          681456 non-null  float64       \n",
      " 10  STATUS_NAME                 681456 non-null  object        \n",
      " 11  PREMIUM_STATUS              681456 non-null  object        \n",
      " 12  PREMIUM_FREQUENCY           681456 non-null  object        \n",
      " 13  MODE_NAME                   681456 non-null  object        \n",
      " 14  GENDER                      681456 non-null  object        \n",
      " 15  MARITAL_STATUS              499195 non-null  object        \n",
      " 16  EDUCATION                   301886 non-null  object        \n",
      " 17  BIRTHDAY                    681456 non-null  datetime64[ns]\n",
      " 18  INCOME                      499072 non-null  float64       \n",
      " 19  SALES_CHANNEL               681456 non-null  object        \n",
      " 20  AGENT_PERSISTENCY           681456 non-null  float64       \n",
      " 21  CLAWBACK_COMMISSION         272104 non-null  float64       \n",
      " 22  TERMINATION_REASON          292303 non-null  object        \n",
      "dtypes: datetime64[ns](3), float64(5), int64(3), object(12)\n",
      "memory usage: 119.6+ MB\n"
     ]
    }
   ],
   "source": [
    "#get information on the data  frame.\n",
    "df.info()"
   ]
  },
  {
   "cell_type": "code",
   "execution_count": 5,
   "metadata": {},
   "outputs": [],
   "source": [
    "#Fix data types e.e dates\n",
    "df['DOC']= pd.to_datetime(df['DOC'])\n",
    "df['TERMINATION_EFFECTIVE_DATE']= pd.to_datetime(df['TERMINATION_EFFECTIVE_DATE'])\n",
    "df['BIRTHDAY']= pd.to_datetime(df['BIRTHDAY'])"
   ]
  },
  {
   "cell_type": "code",
   "execution_count": 7,
   "metadata": {},
   "outputs": [],
   "source": [
    "#Write the fixed data to csv\n",
    "df.to_csv(\"DatesFixed.csv\")"
   ]
  },
  {
   "cell_type": "code",
   "execution_count": null,
   "metadata": {},
   "outputs": [],
   "source": []
  }
 ],
 "metadata": {
  "kernelspec": {
   "display_name": "Python 3",
   "language": "python",
   "name": "python3"
  },
  "language_info": {
   "codemirror_mode": {
    "name": "ipython",
    "version": 3
   },
   "file_extension": ".py",
   "mimetype": "text/x-python",
   "name": "python",
   "nbconvert_exporter": "python",
   "pygments_lexer": "ipython3",
   "version": "3.8.5"
  }
 },
 "nbformat": 4,
 "nbformat_minor": 4
}
